{
 "cells": [
  {
   "cell_type": "markdown",
   "id": "a0228df7",
   "metadata": {},
   "source": [
    "## Data Importing Leanding Club"
   ]
  },
  {
   "cell_type": "code",
   "execution_count": 1,
   "id": "89a696a8",
   "metadata": {},
   "outputs": [],
   "source": [
    "#Load the libraryss\n",
    "import pandas as pd #To work with dataset\n",
    "import numpy as np #Math library\n",
    "import seaborn as sns #Graph library that use matplot in background\n",
    "import matplotlib.pyplot as plt #to plot some parameters in seaborn\n",
    "\n",
    "# set it to convert scientific values\n",
    "pd.options.display.float_format = '{:.2f}'.format \n",
    "\n",
    "# Regular expressions for string manipulation\n",
    "import re\n",
    "\n",
    "import warnings\n",
    "warnings.filterwarnings('ignore')"
   ]
  },
  {
   "cell_type": "code",
   "execution_count": 2,
   "id": "32ed17fe",
   "metadata": {},
   "outputs": [],
   "source": [
    "#load the CSV\n",
    "loan = pd.read_csv('loan.csv')"
   ]
  },
  {
   "cell_type": "code",
   "execution_count": 3,
   "id": "6f6e96d3",
   "metadata": {
    "scrolled": true
   },
   "outputs": [
    {
     "name": "stdout",
     "output_type": "stream",
     "text": [
      "(39717, 111)\n"
     ]
    }
   ],
   "source": [
    "#Check the shape\n",
    "print(loan.shape)"
   ]
  },
  {
   "cell_type": "markdown",
   "id": "fa672bff",
   "metadata": {},
   "source": [
    "###  Data cleaning (cleaning missing values, removing redundant columns etc.)"
   ]
  },
  {
   "cell_type": "code",
   "execution_count": 4,
   "id": "105795bb",
   "metadata": {},
   "outputs": [
    {
     "data": {
      "text/html": [
       "<div>\n",
       "<style scoped>\n",
       "    .dataframe tbody tr th:only-of-type {\n",
       "        vertical-align: middle;\n",
       "    }\n",
       "\n",
       "    .dataframe tbody tr th {\n",
       "        vertical-align: top;\n",
       "    }\n",
       "\n",
       "    .dataframe thead th {\n",
       "        text-align: right;\n",
       "    }\n",
       "</style>\n",
       "<table border=\"1\" class=\"dataframe\">\n",
       "  <thead>\n",
       "    <tr style=\"text-align: right;\">\n",
       "      <th></th>\n",
       "      <th>id</th>\n",
       "      <th>member_id</th>\n",
       "      <th>loan_amnt</th>\n",
       "      <th>funded_amnt</th>\n",
       "      <th>funded_amnt_inv</th>\n",
       "      <th>term</th>\n",
       "      <th>int_rate</th>\n",
       "      <th>installment</th>\n",
       "      <th>grade</th>\n",
       "      <th>sub_grade</th>\n",
       "      <th>...</th>\n",
       "      <th>num_tl_90g_dpd_24m</th>\n",
       "      <th>num_tl_op_past_12m</th>\n",
       "      <th>pct_tl_nvr_dlq</th>\n",
       "      <th>percent_bc_gt_75</th>\n",
       "      <th>pub_rec_bankruptcies</th>\n",
       "      <th>tax_liens</th>\n",
       "      <th>tot_hi_cred_lim</th>\n",
       "      <th>total_bal_ex_mort</th>\n",
       "      <th>total_bc_limit</th>\n",
       "      <th>total_il_high_credit_limit</th>\n",
       "    </tr>\n",
       "  </thead>\n",
       "  <tbody>\n",
       "    <tr>\n",
       "      <th>0</th>\n",
       "      <td>False</td>\n",
       "      <td>False</td>\n",
       "      <td>False</td>\n",
       "      <td>False</td>\n",
       "      <td>False</td>\n",
       "      <td>False</td>\n",
       "      <td>False</td>\n",
       "      <td>False</td>\n",
       "      <td>False</td>\n",
       "      <td>False</td>\n",
       "      <td>...</td>\n",
       "      <td>True</td>\n",
       "      <td>True</td>\n",
       "      <td>True</td>\n",
       "      <td>True</td>\n",
       "      <td>False</td>\n",
       "      <td>False</td>\n",
       "      <td>True</td>\n",
       "      <td>True</td>\n",
       "      <td>True</td>\n",
       "      <td>True</td>\n",
       "    </tr>\n",
       "    <tr>\n",
       "      <th>1</th>\n",
       "      <td>False</td>\n",
       "      <td>False</td>\n",
       "      <td>False</td>\n",
       "      <td>False</td>\n",
       "      <td>False</td>\n",
       "      <td>False</td>\n",
       "      <td>False</td>\n",
       "      <td>False</td>\n",
       "      <td>False</td>\n",
       "      <td>False</td>\n",
       "      <td>...</td>\n",
       "      <td>True</td>\n",
       "      <td>True</td>\n",
       "      <td>True</td>\n",
       "      <td>True</td>\n",
       "      <td>False</td>\n",
       "      <td>False</td>\n",
       "      <td>True</td>\n",
       "      <td>True</td>\n",
       "      <td>True</td>\n",
       "      <td>True</td>\n",
       "    </tr>\n",
       "    <tr>\n",
       "      <th>2</th>\n",
       "      <td>False</td>\n",
       "      <td>False</td>\n",
       "      <td>False</td>\n",
       "      <td>False</td>\n",
       "      <td>False</td>\n",
       "      <td>False</td>\n",
       "      <td>False</td>\n",
       "      <td>False</td>\n",
       "      <td>False</td>\n",
       "      <td>False</td>\n",
       "      <td>...</td>\n",
       "      <td>True</td>\n",
       "      <td>True</td>\n",
       "      <td>True</td>\n",
       "      <td>True</td>\n",
       "      <td>False</td>\n",
       "      <td>False</td>\n",
       "      <td>True</td>\n",
       "      <td>True</td>\n",
       "      <td>True</td>\n",
       "      <td>True</td>\n",
       "    </tr>\n",
       "    <tr>\n",
       "      <th>3</th>\n",
       "      <td>False</td>\n",
       "      <td>False</td>\n",
       "      <td>False</td>\n",
       "      <td>False</td>\n",
       "      <td>False</td>\n",
       "      <td>False</td>\n",
       "      <td>False</td>\n",
       "      <td>False</td>\n",
       "      <td>False</td>\n",
       "      <td>False</td>\n",
       "      <td>...</td>\n",
       "      <td>True</td>\n",
       "      <td>True</td>\n",
       "      <td>True</td>\n",
       "      <td>True</td>\n",
       "      <td>False</td>\n",
       "      <td>False</td>\n",
       "      <td>True</td>\n",
       "      <td>True</td>\n",
       "      <td>True</td>\n",
       "      <td>True</td>\n",
       "    </tr>\n",
       "    <tr>\n",
       "      <th>4</th>\n",
       "      <td>False</td>\n",
       "      <td>False</td>\n",
       "      <td>False</td>\n",
       "      <td>False</td>\n",
       "      <td>False</td>\n",
       "      <td>False</td>\n",
       "      <td>False</td>\n",
       "      <td>False</td>\n",
       "      <td>False</td>\n",
       "      <td>False</td>\n",
       "      <td>...</td>\n",
       "      <td>True</td>\n",
       "      <td>True</td>\n",
       "      <td>True</td>\n",
       "      <td>True</td>\n",
       "      <td>False</td>\n",
       "      <td>False</td>\n",
       "      <td>True</td>\n",
       "      <td>True</td>\n",
       "      <td>True</td>\n",
       "      <td>True</td>\n",
       "    </tr>\n",
       "    <tr>\n",
       "      <th>...</th>\n",
       "      <td>...</td>\n",
       "      <td>...</td>\n",
       "      <td>...</td>\n",
       "      <td>...</td>\n",
       "      <td>...</td>\n",
       "      <td>...</td>\n",
       "      <td>...</td>\n",
       "      <td>...</td>\n",
       "      <td>...</td>\n",
       "      <td>...</td>\n",
       "      <td>...</td>\n",
       "      <td>...</td>\n",
       "      <td>...</td>\n",
       "      <td>...</td>\n",
       "      <td>...</td>\n",
       "      <td>...</td>\n",
       "      <td>...</td>\n",
       "      <td>...</td>\n",
       "      <td>...</td>\n",
       "      <td>...</td>\n",
       "      <td>...</td>\n",
       "    </tr>\n",
       "    <tr>\n",
       "      <th>39712</th>\n",
       "      <td>False</td>\n",
       "      <td>False</td>\n",
       "      <td>False</td>\n",
       "      <td>False</td>\n",
       "      <td>False</td>\n",
       "      <td>False</td>\n",
       "      <td>False</td>\n",
       "      <td>False</td>\n",
       "      <td>False</td>\n",
       "      <td>False</td>\n",
       "      <td>...</td>\n",
       "      <td>True</td>\n",
       "      <td>True</td>\n",
       "      <td>True</td>\n",
       "      <td>True</td>\n",
       "      <td>True</td>\n",
       "      <td>True</td>\n",
       "      <td>True</td>\n",
       "      <td>True</td>\n",
       "      <td>True</td>\n",
       "      <td>True</td>\n",
       "    </tr>\n",
       "    <tr>\n",
       "      <th>39713</th>\n",
       "      <td>False</td>\n",
       "      <td>False</td>\n",
       "      <td>False</td>\n",
       "      <td>False</td>\n",
       "      <td>False</td>\n",
       "      <td>False</td>\n",
       "      <td>False</td>\n",
       "      <td>False</td>\n",
       "      <td>False</td>\n",
       "      <td>False</td>\n",
       "      <td>...</td>\n",
       "      <td>True</td>\n",
       "      <td>True</td>\n",
       "      <td>True</td>\n",
       "      <td>True</td>\n",
       "      <td>True</td>\n",
       "      <td>True</td>\n",
       "      <td>True</td>\n",
       "      <td>True</td>\n",
       "      <td>True</td>\n",
       "      <td>True</td>\n",
       "    </tr>\n",
       "    <tr>\n",
       "      <th>39714</th>\n",
       "      <td>False</td>\n",
       "      <td>False</td>\n",
       "      <td>False</td>\n",
       "      <td>False</td>\n",
       "      <td>False</td>\n",
       "      <td>False</td>\n",
       "      <td>False</td>\n",
       "      <td>False</td>\n",
       "      <td>False</td>\n",
       "      <td>False</td>\n",
       "      <td>...</td>\n",
       "      <td>True</td>\n",
       "      <td>True</td>\n",
       "      <td>True</td>\n",
       "      <td>True</td>\n",
       "      <td>True</td>\n",
       "      <td>True</td>\n",
       "      <td>True</td>\n",
       "      <td>True</td>\n",
       "      <td>True</td>\n",
       "      <td>True</td>\n",
       "    </tr>\n",
       "    <tr>\n",
       "      <th>39715</th>\n",
       "      <td>False</td>\n",
       "      <td>False</td>\n",
       "      <td>False</td>\n",
       "      <td>False</td>\n",
       "      <td>False</td>\n",
       "      <td>False</td>\n",
       "      <td>False</td>\n",
       "      <td>False</td>\n",
       "      <td>False</td>\n",
       "      <td>False</td>\n",
       "      <td>...</td>\n",
       "      <td>True</td>\n",
       "      <td>True</td>\n",
       "      <td>True</td>\n",
       "      <td>True</td>\n",
       "      <td>True</td>\n",
       "      <td>True</td>\n",
       "      <td>True</td>\n",
       "      <td>True</td>\n",
       "      <td>True</td>\n",
       "      <td>True</td>\n",
       "    </tr>\n",
       "    <tr>\n",
       "      <th>39716</th>\n",
       "      <td>False</td>\n",
       "      <td>False</td>\n",
       "      <td>False</td>\n",
       "      <td>False</td>\n",
       "      <td>False</td>\n",
       "      <td>False</td>\n",
       "      <td>False</td>\n",
       "      <td>False</td>\n",
       "      <td>False</td>\n",
       "      <td>False</td>\n",
       "      <td>...</td>\n",
       "      <td>True</td>\n",
       "      <td>True</td>\n",
       "      <td>True</td>\n",
       "      <td>True</td>\n",
       "      <td>True</td>\n",
       "      <td>True</td>\n",
       "      <td>True</td>\n",
       "      <td>True</td>\n",
       "      <td>True</td>\n",
       "      <td>True</td>\n",
       "    </tr>\n",
       "  </tbody>\n",
       "</table>\n",
       "<p>39717 rows × 111 columns</p>\n",
       "</div>"
      ],
      "text/plain": [
       "          id  member_id  loan_amnt  funded_amnt  funded_amnt_inv   term  \\\n",
       "0      False      False      False        False            False  False   \n",
       "1      False      False      False        False            False  False   \n",
       "2      False      False      False        False            False  False   \n",
       "3      False      False      False        False            False  False   \n",
       "4      False      False      False        False            False  False   \n",
       "...      ...        ...        ...          ...              ...    ...   \n",
       "39712  False      False      False        False            False  False   \n",
       "39713  False      False      False        False            False  False   \n",
       "39714  False      False      False        False            False  False   \n",
       "39715  False      False      False        False            False  False   \n",
       "39716  False      False      False        False            False  False   \n",
       "\n",
       "       int_rate  installment  grade  sub_grade  ...  num_tl_90g_dpd_24m  \\\n",
       "0         False        False  False      False  ...                True   \n",
       "1         False        False  False      False  ...                True   \n",
       "2         False        False  False      False  ...                True   \n",
       "3         False        False  False      False  ...                True   \n",
       "4         False        False  False      False  ...                True   \n",
       "...         ...          ...    ...        ...  ...                 ...   \n",
       "39712     False        False  False      False  ...                True   \n",
       "39713     False        False  False      False  ...                True   \n",
       "39714     False        False  False      False  ...                True   \n",
       "39715     False        False  False      False  ...                True   \n",
       "39716     False        False  False      False  ...                True   \n",
       "\n",
       "       num_tl_op_past_12m  pct_tl_nvr_dlq  percent_bc_gt_75  \\\n",
       "0                    True            True              True   \n",
       "1                    True            True              True   \n",
       "2                    True            True              True   \n",
       "3                    True            True              True   \n",
       "4                    True            True              True   \n",
       "...                   ...             ...               ...   \n",
       "39712                True            True              True   \n",
       "39713                True            True              True   \n",
       "39714                True            True              True   \n",
       "39715                True            True              True   \n",
       "39716                True            True              True   \n",
       "\n",
       "       pub_rec_bankruptcies  tax_liens  tot_hi_cred_lim  total_bal_ex_mort  \\\n",
       "0                     False      False             True               True   \n",
       "1                     False      False             True               True   \n",
       "2                     False      False             True               True   \n",
       "3                     False      False             True               True   \n",
       "4                     False      False             True               True   \n",
       "...                     ...        ...              ...                ...   \n",
       "39712                  True       True             True               True   \n",
       "39713                  True       True             True               True   \n",
       "39714                  True       True             True               True   \n",
       "39715                  True       True             True               True   \n",
       "39716                  True       True             True               True   \n",
       "\n",
       "       total_bc_limit  total_il_high_credit_limit  \n",
       "0                True                        True  \n",
       "1                True                        True  \n",
       "2                True                        True  \n",
       "3                True                        True  \n",
       "4                True                        True  \n",
       "...               ...                         ...  \n",
       "39712            True                        True  \n",
       "39713            True                        True  \n",
       "39714            True                        True  \n",
       "39715            True                        True  \n",
       "39716            True                        True  \n",
       "\n",
       "[39717 rows x 111 columns]"
      ]
     },
     "execution_count": 4,
     "metadata": {},
     "output_type": "execute_result"
    }
   ],
   "source": [
    "#Check whether column has null values\n",
    "loan.isnull()"
   ]
  },
  {
   "cell_type": "code",
   "execution_count": 5,
   "id": "d18752ab",
   "metadata": {},
   "outputs": [
    {
     "name": "stdout",
     "output_type": "stream",
     "text": [
      "            id  member_id  loan_amnt  funded_amnt  funded_amnt_inv  \\\n",
      "0      1077501    1296599       5000         5000          4975.00   \n",
      "1      1077430    1314167       2500         2500          2500.00   \n",
      "2      1077175    1313524       2400         2400          2400.00   \n",
      "3      1076863    1277178      10000        10000         10000.00   \n",
      "4      1075358    1311748       3000         3000          3000.00   \n",
      "...        ...        ...        ...          ...              ...   \n",
      "39712    92187      92174       2500         2500          1075.00   \n",
      "39713    90665      90607       8500         8500           875.00   \n",
      "39714    90395      90390       5000         5000          1325.00   \n",
      "39715    90376      89243       5000         5000           650.00   \n",
      "39716    87023      86999       7500         7500           800.00   \n",
      "\n",
      "             term int_rate  installment grade sub_grade  ... next_pymnt_d  \\\n",
      "0       36 months   10.65%       162.87     B        B2  ...          NaN   \n",
      "1       60 months   15.27%        59.83     C        C4  ...          NaN   \n",
      "2       36 months   15.96%        84.33     C        C5  ...          NaN   \n",
      "3       36 months   13.49%       339.31     C        C1  ...          NaN   \n",
      "4       60 months   12.69%        67.79     B        B5  ...       Jun-16   \n",
      "...           ...      ...          ...   ...       ...  ...          ...   \n",
      "39712   36 months    8.07%        78.42     A        A4  ...          NaN   \n",
      "39713   36 months   10.28%       275.38     C        C1  ...          NaN   \n",
      "39714   36 months    8.07%       156.84     A        A4  ...          NaN   \n",
      "39715   36 months    7.43%       155.38     A        A2  ...          NaN   \n",
      "39716   36 months   13.75%       255.43     E        E2  ...          NaN   \n",
      "\n",
      "      last_credit_pull_d collections_12_mths_ex_med  policy_code  \\\n",
      "0                 May-16                       0.00            1   \n",
      "1                 Sep-13                       0.00            1   \n",
      "2                 May-16                       0.00            1   \n",
      "3                 Apr-16                       0.00            1   \n",
      "4                 May-16                       0.00            1   \n",
      "...                  ...                        ...          ...   \n",
      "39712             Jun-10                        NaN            1   \n",
      "39713             Jul-10                        NaN            1   \n",
      "39714             Jun-07                        NaN            1   \n",
      "39715             Jun-07                        NaN            1   \n",
      "39716             Jun-10                        NaN            1   \n",
      "\n",
      "      application_type acc_now_delinq chargeoff_within_12_mths delinq_amnt  \\\n",
      "0           INDIVIDUAL              0                     0.00           0   \n",
      "1           INDIVIDUAL              0                     0.00           0   \n",
      "2           INDIVIDUAL              0                     0.00           0   \n",
      "3           INDIVIDUAL              0                     0.00           0   \n",
      "4           INDIVIDUAL              0                     0.00           0   \n",
      "...                ...            ...                      ...         ...   \n",
      "39712       INDIVIDUAL              0                      NaN           0   \n",
      "39713       INDIVIDUAL              0                      NaN           0   \n",
      "39714       INDIVIDUAL              0                      NaN           0   \n",
      "39715       INDIVIDUAL              0                      NaN           0   \n",
      "39716       INDIVIDUAL              0                      NaN           0   \n",
      "\n",
      "      pub_rec_bankruptcies tax_liens  \n",
      "0                     0.00      0.00  \n",
      "1                     0.00      0.00  \n",
      "2                     0.00      0.00  \n",
      "3                     0.00      0.00  \n",
      "4                     0.00      0.00  \n",
      "...                    ...       ...  \n",
      "39712                  NaN       NaN  \n",
      "39713                  NaN       NaN  \n",
      "39714                  NaN       NaN  \n",
      "39715                  NaN       NaN  \n",
      "39716                  NaN       NaN  \n",
      "\n",
      "[39717 rows x 57 columns]\n"
     ]
    }
   ],
   "source": [
    "#Remove the columns which has all null values\n",
    "loan = loan.dropna(how='all')\n",
    "loan = loan.dropna(how='all', axis=1)\n",
    "print(loan)"
   ]
  },
  {
   "cell_type": "code",
   "execution_count": 6,
   "id": "b6e2a700",
   "metadata": {
    "scrolled": true
   },
   "outputs": [
    {
     "data": {
      "text/plain": [
       "0        False\n",
       "1        False\n",
       "2        False\n",
       "3        False\n",
       "4        False\n",
       "         ...  \n",
       "39712    False\n",
       "39713    False\n",
       "39714    False\n",
       "39715    False\n",
       "39716    False\n",
       "Length: 39717, dtype: bool"
      ]
     },
     "execution_count": 6,
     "metadata": {},
     "output_type": "execute_result"
    }
   ],
   "source": [
    "#Check if any column is duplicated. If there is any lets remove it\n",
    "#I dont see any values is duplicated.\n",
    "loan.duplicated()"
   ]
  },
  {
   "cell_type": "code",
   "execution_count": 7,
   "id": "02ce5a9f",
   "metadata": {},
   "outputs": [
    {
     "name": "stdout",
     "output_type": "stream",
     "text": [
      "<class 'pandas.core.frame.DataFrame'>\n",
      "Int64Index: 39717 entries, 0 to 39716\n",
      "Data columns (total 57 columns):\n",
      " #   Column                      Non-Null Count  Dtype  \n",
      "---  ------                      --------------  -----  \n",
      " 0   id                          39717 non-null  int64  \n",
      " 1   member_id                   39717 non-null  int64  \n",
      " 2   loan_amnt                   39717 non-null  int64  \n",
      " 3   funded_amnt                 39717 non-null  int64  \n",
      " 4   funded_amnt_inv             39717 non-null  float64\n",
      " 5   term                        39717 non-null  object \n",
      " 6   int_rate                    39717 non-null  object \n",
      " 7   installment                 39717 non-null  float64\n",
      " 8   grade                       39717 non-null  object \n",
      " 9   sub_grade                   39717 non-null  object \n",
      " 10  emp_title                   37258 non-null  object \n",
      " 11  emp_length                  38642 non-null  object \n",
      " 12  home_ownership              39717 non-null  object \n",
      " 13  annual_inc                  39717 non-null  float64\n",
      " 14  verification_status         39717 non-null  object \n",
      " 15  issue_d                     39717 non-null  object \n",
      " 16  loan_status                 39717 non-null  object \n",
      " 17  pymnt_plan                  39717 non-null  object \n",
      " 18  url                         39717 non-null  object \n",
      " 19  desc                        26777 non-null  object \n",
      " 20  purpose                     39717 non-null  object \n",
      " 21  title                       39706 non-null  object \n",
      " 22  zip_code                    39717 non-null  object \n",
      " 23  addr_state                  39717 non-null  object \n",
      " 24  dti                         39717 non-null  float64\n",
      " 25  delinq_2yrs                 39717 non-null  int64  \n",
      " 26  earliest_cr_line            39717 non-null  object \n",
      " 27  inq_last_6mths              39717 non-null  int64  \n",
      " 28  mths_since_last_delinq      14035 non-null  float64\n",
      " 29  mths_since_last_record      2786 non-null   float64\n",
      " 30  open_acc                    39717 non-null  int64  \n",
      " 31  pub_rec                     39717 non-null  int64  \n",
      " 32  revol_bal                   39717 non-null  int64  \n",
      " 33  revol_util                  39667 non-null  object \n",
      " 34  total_acc                   39717 non-null  int64  \n",
      " 35  initial_list_status         39717 non-null  object \n",
      " 36  out_prncp                   39717 non-null  float64\n",
      " 37  out_prncp_inv               39717 non-null  float64\n",
      " 38  total_pymnt                 39717 non-null  float64\n",
      " 39  total_pymnt_inv             39717 non-null  float64\n",
      " 40  total_rec_prncp             39717 non-null  float64\n",
      " 41  total_rec_int               39717 non-null  float64\n",
      " 42  total_rec_late_fee          39717 non-null  float64\n",
      " 43  recoveries                  39717 non-null  float64\n",
      " 44  collection_recovery_fee     39717 non-null  float64\n",
      " 45  last_pymnt_d                39646 non-null  object \n",
      " 46  last_pymnt_amnt             39717 non-null  float64\n",
      " 47  next_pymnt_d                1140 non-null   object \n",
      " 48  last_credit_pull_d          39715 non-null  object \n",
      " 49  collections_12_mths_ex_med  39661 non-null  float64\n",
      " 50  policy_code                 39717 non-null  int64  \n",
      " 51  application_type            39717 non-null  object \n",
      " 52  acc_now_delinq              39717 non-null  int64  \n",
      " 53  chargeoff_within_12_mths    39661 non-null  float64\n",
      " 54  delinq_amnt                 39717 non-null  int64  \n",
      " 55  pub_rec_bankruptcies        39020 non-null  float64\n",
      " 56  tax_liens                   39678 non-null  float64\n",
      "dtypes: float64(20), int64(13), object(24)\n",
      "memory usage: 17.6+ MB\n"
     ]
    }
   ],
   "source": [
    "#loan.head()\n",
    "loan.info()"
   ]
  },
  {
   "cell_type": "code",
   "execution_count": 8,
   "id": "7e795334",
   "metadata": {},
   "outputs": [],
   "source": [
    "#remove unwanted columns\n",
    "loan.drop([\"id\", \"member_id\", \"url\", \"title\", \"emp_title\", \"zip_code\", \"last_credit_pull_d\", \"addr_state\",\"desc\",\"out_prncp_inv\",\"total_pymnt_inv\",\"funded_amnt\", \"delinq_2yrs\", \"revol_bal\", \"out_prncp\", \"total_pymnt\", \"total_rec_prncp\", \"total_rec_int\", \"total_rec_late_fee\", \"recoveries\", \"collection_recovery_fee\", \"last_pymnt_d\", \"last_pymnt_amnt\", \"next_pymnt_d\" , \"chargeoff_within_12_mths\", \"mths_since_last_delinq\", \"mths_since_last_record\",\"collections_12_mths_ex_med\",\"tax_liens\"], axis = 1, inplace = True)\n"
   ]
  },
  {
   "cell_type": "code",
   "execution_count": 9,
   "id": "4b7139d1",
   "metadata": {},
   "outputs": [
    {
     "data": {
      "text/plain": [
       "Index(['loan_amnt', 'funded_amnt_inv', 'term', 'int_rate', 'installment',\n",
       "       'grade', 'sub_grade', 'emp_length', 'home_ownership', 'annual_inc',\n",
       "       'verification_status', 'issue_d', 'loan_status', 'pymnt_plan',\n",
       "       'purpose', 'dti', 'earliest_cr_line', 'inq_last_6mths', 'open_acc',\n",
       "       'pub_rec', 'revol_util', 'total_acc', 'initial_list_status',\n",
       "       'policy_code', 'application_type', 'acc_now_delinq', 'delinq_amnt',\n",
       "       'pub_rec_bankruptcies'],\n",
       "      dtype='object')"
      ]
     },
     "execution_count": 9,
     "metadata": {},
     "output_type": "execute_result"
    }
   ],
   "source": [
    "loan.columns"
   ]
  },
  {
   "cell_type": "code",
   "execution_count": 10,
   "id": "65d52086",
   "metadata": {},
   "outputs": [
    {
     "data": {
      "text/plain": [
       "(39717, 28)"
      ]
     },
     "execution_count": 10,
     "metadata": {},
     "output_type": "execute_result"
    }
   ],
   "source": [
    "#The number of columns reduced to 30\n",
    "loan.shape"
   ]
  },
  {
   "cell_type": "code",
   "execution_count": 11,
   "id": "900205e9",
   "metadata": {},
   "outputs": [
    {
     "data": {
      "text/plain": [
       "<AxesSubplot:>"
      ]
     },
     "execution_count": 11,
     "metadata": {},
     "output_type": "execute_result"
    },
    {
     "data": {
      "image/png": "[encoded data removed]",
      "text/plain": [
       "<Figure size 432x288 with 1 Axes>"
      ]
     },
     "metadata": {
      "needs_background": "light"
     },
     "output_type": "display_data"
    }
   ],
   "source": [
    "#Drop the rows which is not needed. The row with the Current loan_status doenst give any significant information. \n",
    "loan = loan[loan.loan_status != 'Current']\n",
    "loan['loan_status'].value_counts().head(10).plot.bar()"
   ]
  },
  {
   "cell_type": "code",
   "execution_count": 12,
   "id": "0ddd7449",
   "metadata": {},
   "outputs": [
    {
     "name": "stdout",
     "output_type": "stream",
     "text": [
      "<class 'pandas.core.frame.DataFrame'>\n",
      "Int64Index: 38577 entries, 0 to 39716\n",
      "Data columns (total 28 columns):\n",
      " #   Column                Non-Null Count  Dtype  \n",
      "---  ------                --------------  -----  \n",
      " 0   loan_amnt             38577 non-null  int64  \n",
      " 1   funded_amnt_inv       38577 non-null  float64\n",
      " 2   term                  38577 non-null  object \n",
      " 3   int_rate              38577 non-null  object \n",
      " 4   installment           38577 non-null  float64\n",
      " 5   grade                 38577 non-null  object \n",
      " 6   sub_grade             38577 non-null  object \n",
      " 7   emp_length            37544 non-null  object \n",
      " 8   home_ownership        38577 non-null  object \n",
      " 9   annual_inc            38577 non-null  float64\n",
      " 10  verification_status   38577 non-null  object \n",
      " 11  issue_d               38577 non-null  object \n",
      " 12  loan_status           38577 non-null  object \n",
      " 13  pymnt_plan            38577 non-null  object \n",
      " 14  purpose               38577 non-null  object \n",
      " 15  dti                   38577 non-null  float64\n",
      " 16  earliest_cr_line      38577 non-null  object \n",
      " 17  inq_last_6mths        38577 non-null  int64  \n",
      " 18  open_acc              38577 non-null  int64  \n",
      " 19  pub_rec               38577 non-null  int64  \n",
      " 20  revol_util            38527 non-null  object \n",
      " 21  total_acc             38577 non-null  int64  \n",
      " 22  initial_list_status   38577 non-null  object \n",
      " 23  policy_code           38577 non-null  int64  \n",
      " 24  application_type      38577 non-null  object \n",
      " 25  acc_now_delinq        38577 non-null  int64  \n",
      " 26  delinq_amnt           38577 non-null  int64  \n",
      " 27  pub_rec_bankruptcies  37880 non-null  float64\n",
      "dtypes: float64(5), int64(8), object(15)\n",
      "memory usage: 8.5+ MB\n"
     ]
    }
   ],
   "source": [
    "loan.info()"
   ]
  },
  {
   "cell_type": "code",
   "execution_count": 13,
   "id": "eff8ff78",
   "metadata": {},
   "outputs": [
    {
     "data": {
      "text/plain": [
       "1033"
      ]
     },
     "execution_count": 13,
     "metadata": {},
     "output_type": "execute_result"
    }
   ],
   "source": [
    "#Adding missing values for the emp length columns emp_length\n",
    "loan.emp_length.value_counts()\n",
    "loan.emp_length.isna().sum()\n"
   ]
  },
  {
   "cell_type": "code",
   "execution_count": 14,
   "id": "bd993b1b",
   "metadata": {},
   "outputs": [],
   "source": [
    "#Add the mode value in the empty rows for emp_length column\n",
    "loan['emp_length'] = loan['emp_length'].fillna(loan['emp_length'].mode()[0])\n",
    "loan.emp_length.isna().sum() \n",
    "loan.emp_length = pd.to_numeric(loan.emp_length.apply(lambda x: 0 if \"<\" in x else (x.split('+')[0] if \"+\" in x else x.split()[0])))"
   ]
  },
  {
   "cell_type": "code",
   "execution_count": 15,
   "id": "ed9b1850",
   "metadata": {
    "scrolled": true
   },
   "outputs": [
    {
     "name": "stdout",
     "output_type": "stream",
     "text": [
      "0.50    58868.00\n",
      "0.75    82000.00\n",
      "0.90   115000.00\n",
      "0.95   140004.00\n",
      "0.97   165000.00\n",
      "0.98   187000.00\n",
      "0.99   234144.00\n",
      "Name: annual_inc, dtype: float64\n"
     ]
    }
   ],
   "source": [
    "#Finding the outlier on the important columns Loan amount , annual_inc\n",
    "#Find the Quantile data. We will remove all the data above 95%\n",
    "quantile_annual_inc = loan.annual_inc.quantile([0.5, 0.75,0.90, 0.95, 0.97,0.98, 0.99])\n",
    "print(quantile_annual_inc)\n",
    "#"
   ]
  },
  {
   "cell_type": "code",
   "execution_count": 16,
   "id": "0a657385",
   "metadata": {},
   "outputs": [
    {
     "data": {
      "text/plain": [
       "<AxesSubplot:xlabel='annual_inc'>"
      ]
     },
     "execution_count": 16,
     "metadata": {},
     "output_type": "execute_result"
    },
    {
     "data": {
      "image/png": "[encoded data removed]",
      "text/plain": [
       "<Figure size 432x288 with 1 Axes>"
      ]
     },
     "metadata": {
      "needs_background": "light"
     },
     "output_type": "display_data"
    }
   ],
   "source": [
    "sns.boxplot(loan.annual_inc)"
   ]
  },
  {
   "cell_type": "code",
   "execution_count": 17,
   "id": "ae355bcb",
   "metadata": {},
   "outputs": [],
   "source": [
    "#Tried with 99%. The outliers are more. So going with 95%\n",
    "annual_inc_95 = loan['annual_inc'].quantile(0.95)\n",
    "#print(annual_inc_95)\n",
    "loan = loan[loan.annual_inc <= annual_inc_95]\n",
    "#loan = loan[loan.annual_inc <= 140004.0]"
   ]
  },
  {
   "cell_type": "code",
   "execution_count": 18,
   "id": "5d110afe",
   "metadata": {},
   "outputs": [
    {
     "data": {
      "text/plain": [
       "<AxesSubplot:xlabel='annual_inc'>"
      ]
     },
     "execution_count": 18,
     "metadata": {},
     "output_type": "execute_result"
    },
    {
     "data": {
      "image/png": "[encoded data removed]",
      "text/plain": [
       "<Figure size 432x288 with 1 Axes>"
      ]
     },
     "metadata": {
      "needs_background": "light"
     },
     "output_type": "display_data"
    }
   ],
   "source": [
    "#The box graph looks good.\n",
    "sns.boxplot(loan.annual_inc)"
   ]
  },
  {
   "cell_type": "code",
   "execution_count": 19,
   "id": "6dfbe8bf",
   "metadata": {},
   "outputs": [
    {
     "data": {
      "text/plain": [
       "<AxesSubplot:xlabel='loan_amnt'>"
      ]
     },
     "execution_count": 19,
     "metadata": {},
     "output_type": "execute_result"
    },
    {
     "data": {
      "image/png": "[encoded data removed]",
      "text/plain": [
       "<Figure size 432x288 with 1 Axes>"
      ]
     },
     "metadata": {
      "needs_background": "light"
     },
     "output_type": "display_data"
    }
   ],
   "source": [
    "#Similary do this for the loan amount\n",
    "#annual_inc_95 = loan['loan_amt'].quantile(0.95)\n",
    "#loan = loan[loan.annual_inc <= annual_inc_95]\n",
    "\n",
    "#The box graph looks good.\n",
    "sns.boxplot(loan.loan_amnt)"
   ]
  },
  {
   "cell_type": "markdown",
   "id": "436e7213",
   "metadata": {},
   "source": [
    "## Analying the data"
   ]
  },
  {
   "cell_type": "markdown",
   "id": "33c53003",
   "metadata": {},
   "source": [
    "* Purpose "
   ]
  },
  {
   "cell_type": "code",
   "execution_count": 20,
   "id": "4a3fba0e",
   "metadata": {},
   "outputs": [
    {
     "data": {
      "text/plain": [
       "<AxesSubplot:>"
      ]
     },
     "execution_count": 20,
     "metadata": {},
     "output_type": "execute_result"
    },
    {
     "data": {
      "image/png": "[encoded data removed]",
      "text/plain": [
       "<Figure size 432x288 with 1 Axes>"
      ]
     },
     "metadata": {
      "needs_background": "light"
     },
     "output_type": "display_data"
    }
   ],
   "source": [
    "#Top 3 categories who takes loan -  Debt_Consolidation, Credit_Card and Others.\n",
    "loan['purpose'].value_counts().head(10).plot.bar()"
   ]
  },
  {
   "cell_type": "code",
   "execution_count": 21,
   "id": "c7fdac20",
   "metadata": {},
   "outputs": [
    {
     "data": {
      "text/plain": [
       "<AxesSubplot:xlabel='count', ylabel='purpose'>"
      ]
     },
     "execution_count": 21,
     "metadata": {},
     "output_type": "execute_result"
    },
    {
     "data": {
      "image/png": "[encoded data removed]",
      "text/plain": [
       "<Figure size 864x432 with 1 Axes>"
      ]
     },
     "metadata": {
      "needs_background": "light"
     },
     "output_type": "display_data"
    }
   ],
   "source": [
    "#Check which categories has chargeoff more. Debt consolidation has more Charged off compare to others\n",
    "f, axs = plt.subplots(figsize=(12,6))\n",
    "axs.set(xscale = 'log')\n",
    "\n",
    "sns.countplot(y ='purpose', data=loan[loan.loan_status == 'Charged Off'])\n"
   ]
  },
  {
   "cell_type": "markdown",
   "id": "75ba4300",
   "metadata": {},
   "source": [
    "* Home_Owner"
   ]
  },
  {
   "cell_type": "code",
   "execution_count": 22,
   "id": "76d3ea13",
   "metadata": {},
   "outputs": [
    {
     "data": {
      "text/plain": [
       "<AxesSubplot:xlabel='home_ownership', ylabel='count'>"
      ]
     },
     "execution_count": 22,
     "metadata": {},
     "output_type": "execute_result"
    },
    {
     "data": {
      "image/png": "[encoded data removed]",
      "text/plain": [
       "<Figure size 576x288 with 1 Axes>"
      ]
     },
     "metadata": {
      "needs_background": "light"
     },
     "output_type": "display_data"
    }
   ],
   "source": [
    "#People who are having Own house are less likely to be defaulted. Encourage giving loans to people having own house\n",
    "fig, axs = plt.subplots(figsize = (8,4))\n",
    "axs.set(yscale = 'log')\n",
    "sns.countplot(x='home_ownership', data=loan[loan['loan_status']=='Charged Off'])"
   ]
  },
  {
   "cell_type": "markdown",
   "id": "4c9b8c9a",
   "metadata": {},
   "source": [
    "   * Verification Status"
   ]
  },
  {
   "cell_type": "code",
   "execution_count": 23,
   "id": "97b5d508",
   "metadata": {},
   "outputs": [
    {
     "data": {
      "text/plain": [
       "<AxesSubplot:xlabel='count', ylabel='verification_status'>"
      ]
     },
     "execution_count": 23,
     "metadata": {},
     "output_type": "execute_result"
    },
    {
     "data": {
      "image/png": "[encoded data removed]",
      "text/plain": [
       "<Figure size 864x432 with 1 Axes>"
      ]
     },
     "metadata": {
      "needs_background": "light"
     },
     "output_type": "display_data"
    }
   ],
   "source": [
    "#It is always good to verify the source. Whoever income verfied, they are very less likely to be defaulted\n",
    "#loan['verification_status'].unique()\n",
    "#print(loan.groupby(\"verification_status\")[\"loan_status\"].count())\n",
    "#Consolidate Verified and Source Verified\n",
    "f, axs = plt.subplots(figsize=(12,6))\n",
    "axs.set(xscale = 'log')\n",
    "sns.countplot(y='verification_status', data=loan[loan['loan_status']=='Charged Off'])"
   ]
  },
  {
   "cell_type": "code",
   "execution_count": 24,
   "id": "011bc606",
   "metadata": {},
   "outputs": [],
   "source": [
    "#loan.int_rate \n",
    "#\n",
    "loan.int_rate = pd.to_numeric(loan.int_rate.apply(lambda x : x.split('%')[0]))\n",
    "\n",
    "loan['annual_income_groups'] = pd.cut(loan['annual_inc'], bins=5,precision =0,labels =['1k-30k','30k-60k','60k-90k','90k-120k','120k-150k'])\n",
    "loan['intrest_groups'] = pd.cut(loan['int_rate'], bins=5,precision =0,labels =['5-9%','9-13','13-17%','17-21%','21-24%'])"
   ]
  },
  {
   "cell_type": "code",
   "execution_count": 25,
   "id": "2b768483",
   "metadata": {},
   "outputs": [
    {
     "data": {
      "text/plain": [
       "<AxesSubplot:xlabel='annual_income_groups', ylabel='count'>"
      ]
     },
     "execution_count": 25,
     "metadata": {},
     "output_type": "execute_result"
    },
    {
     "data": {
      "image/png": "[encoded data removed]",
      "text/plain": [
       "<Figure size 720x432 with 1 Axes>"
      ]
     },
     "metadata": {
      "needs_background": "light"
     },
     "output_type": "display_data"
    }
   ],
   "source": [
    "#Higher the salary lower the defulter. The group who gets salary within the 31K-60K are more likey to be a defulter\n",
    "fig, ax = plt.subplots(figsize = (10,6))\n",
    "sns.countplot(x='annual_income_groups', data=loan[loan.loan_status == 'Charged Off'])"
   ]
  },
  {
   "cell_type": "code",
   "execution_count": 34,
   "id": "b86e2c8d",
   "metadata": {},
   "outputs": [
    {
     "data": {
      "text/plain": [
       "<AxesSubplot:xlabel='emp_length_group', ylabel='count'>"
      ]
     },
     "execution_count": 34,
     "metadata": {},
     "output_type": "execute_result"
    },
    {
     "data": {
      "image/png": "[encoded data removed]",
      "text/plain": [
       "<Figure size 1080x576 with 2 Axes>"
      ]
     },
     "metadata": {
      "needs_background": "light"
     },
     "output_type": "display_data"
    }
   ],
   "source": [
    "#Less experience or Higher experience employees more likely to be defaulter\n",
    "\n",
    "fig, axs = plt.subplots(figsize = (15,8))\n",
    "axs.set(yscale = 'log')\n",
    "loan['emp_length_group'] = pd.cut(loan['emp_length'], bins=5,precision =0,labels =['0-2','2-4','4-6','6-8','8-10'])\n",
    "plt.subplot(221)\n",
    "sns.countplot(x='emp_length', data=loan[loan['loan_status']=='Charged Off'])\n",
    "plt.subplot(222)\n",
    "sns.countplot(x='emp_length_group', data=loan[loan['loan_status']=='Charged Off'])\n"
   ]
  },
  {
   "cell_type": "code",
   "execution_count": 42,
   "id": "ff35fabd",
   "metadata": {},
   "outputs": [
    {
     "data": {
      "text/plain": [
       "<AxesSubplot:xlabel='intrest_groups', ylabel='count'>"
      ]
     },
     "execution_count": 42,
     "metadata": {},
     "output_type": "execute_result"
    },
    {
     "data": {
      "image/png": "[encoded data removed]",
      "text/plain": [
       "<Figure size 720x432 with 1 Axes>"
      ]
     },
     "metadata": {
      "needs_background": "light"
     },
     "output_type": "display_data"
    }
   ],
   "source": [
    "#If loan interest rate is given between 5-9% the defaulters are less\n",
    "fig, ax = plt.subplots(figsize = (10,6))\n",
    "sns.countplot(x='intrest_groups', data=loan[loan.loan_status == 'Charged Off'])\n",
    "#print(loan.intrest_groups)"
   ]
  },
  {
   "cell_type": "code",
   "execution_count": 35,
   "id": "92536fd7",
   "metadata": {},
   "outputs": [
    {
     "data": {
      "text/plain": [
       "0        Dec-11\n",
       "1        Dec-11\n",
       "2        Dec-11\n",
       "3        Dec-11\n",
       "5        Dec-11\n",
       "          ...  \n",
       "39711    Jul-07\n",
       "39712    Jul-07\n",
       "39713    Jul-07\n",
       "39714    Jul-07\n",
       "39716    Jun-07\n",
       "Name: issue_d, Length: 36654, dtype: object"
      ]
     },
     "execution_count": 35,
     "metadata": {},
     "output_type": "execute_result"
    }
   ],
   "source": [
    "loan.head()\n",
    "loan['issue_d']\n",
    "#issueMY = loan['issue_d'].str.split('-', expand=True)\n",
    "#loan['issued_mnth'] = '20' + issueMY[1]\n",
    "#loan['issued_year'] = issueMY[0]"
   ]
  },
  {
   "cell_type": "code",
   "execution_count": 29,
   "id": "3dcccfe8",
   "metadata": {},
   "outputs": [
    {
     "data": {
      "text/plain": [
       "<AxesSubplot:xlabel='issued_year', ylabel='count'>"
      ]
     },
     "execution_count": 29,
     "metadata": {},
     "output_type": "execute_result"
    },
    {
     "data": {
      "image/png": "[encoded data removed]",
      "text/plain": [
       "<Figure size 1080x1080 with 2 Axes>"
      ]
     },
     "metadata": {
      "needs_background": "light"
     },
     "output_type": "display_data"
    }
   ],
   "source": [
    "#As per excel issue_d column seems to be MOnth-Year. In Data dictionary also it is not clearly mentioned. \n",
    "#With the Analysis, the loan taken in the year 2011 has more defaulter\n",
    "\n",
    "plt.figure(figsize=(15,15))\n",
    "plt.subplot(222)\n",
    "sns.countplot(x='issued_mnth', data=loan[loan['loan_status']=='Charged Off'])\n",
    "plt.subplot(221)\n",
    "sns.countplot(x='issued_year', data=loan[loan['loan_status']=='Charged Off'])"
   ]
  },
  {
   "cell_type": "code",
   "execution_count": 61,
   "id": "91190a81",
   "metadata": {},
   "outputs": [
    {
     "data": {
      "text/plain": [
       "<AxesSubplot:xlabel='term,loan_status'>"
      ]
     },
     "execution_count": 61,
     "metadata": {},
     "output_type": "execute_result"
    },
    {
     "data": {
      "image/png": "[encoded data removed]",
      "text/plain": [
       "<Figure size 432x288 with 1 Axes>"
      ]
     },
     "metadata": {
      "needs_background": "light"
     },
     "output_type": "display_data"
    }
   ],
   "source": [
    "#Higher the salary lower the defulter. The group who gets salary within the 31K-60K are more likey to be a defulter\n",
    "#fig, ax = plt.subplots(figsize = (10,6))\n",
    "#sns.countplot(x='term', data=loan[loan.loan_status == 'Charged Off']/loan['loan_status'].count())\n",
    "#loan.groupby(loan['term']) \n",
    "\n",
    "loan.groupby(['term','loan_status'])['loan_status'].count().plot(legend=True)"
   ]
  },
  {
   "cell_type": "code",
   "execution_count": null,
   "id": "5985076e",
   "metadata": {},
   "outputs": [],
   "source": []
  }
 ],
 "metadata": {
  "kernelspec": {
   "display_name": "Python 3 (ipykernel)",
   "language": "python",
   "name": "python3"
  },
  "language_info": {
   "codemirror_mode": {
    "name": "ipython",
    "version": 3
   },
   "file_extension": ".py",
   "mimetype": "text/x-python",
   "name": "python",
   "nbconvert_exporter": "python",
   "pygments_lexer": "ipython3",
   "version": "3.9.7"
  }
 },
 "nbformat": 4,
 "nbformat_minor": 5
}
